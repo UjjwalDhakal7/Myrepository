{
 "cells": [
  {
   "cell_type": "code",
   "execution_count": 1,
   "metadata": {},
   "outputs": [
    {
     "name": "stdout",
     "output_type": "stream",
     "text": [
      "what is your name?\n"
     ]
    }
   ],
   "source": [
    "def program():\n",
    "    print(\"what is your name?\")\n",
    "program()\n"
   ]
  },
  {
   "cell_type": "code",
   "execution_count": 13,
   "metadata": {},
   "outputs": [
    {
     "name": "stdout",
     "output_type": "stream",
     "text": [
      "enter how many times to calculate: 2\n",
      "enter length : 2\n",
      "enter breadth : 3\n",
      "area= 6\n",
      "enter length : 2\n",
      "enter breadth : 3\n",
      "area= 6\n"
     ]
    }
   ],
   "source": [
    "def area():\n",
    "    l=int(input(\"enter length : \"))\n",
    "    b=int(input(\"enter breadth : \"))\n",
    "    a = l*b\n",
    "    print(\"area=\",a)\n",
    "i= int(input(\"enter how many times to calculate: \"))\n",
    "for i in range(i):\n",
    "    area()"
   ]
  },
  {
   "cell_type": "code",
   "execution_count": 4,
   "metadata": {},
   "outputs": [
    {
     "name": "stdout",
     "output_type": "stream",
     "text": [
      "hello world\n",
      "enter y for morey\n",
      "hello world\n",
      "enter y for morez\n"
     ]
    }
   ],
   "source": [
    "#recursive function\n",
    "def hello():\n",
    "    print(\"hello world\")\n",
    "    x = input(\"enter y for more: \")\n",
    "    if x == \"y\":\n",
    "     hello()\n",
    "        \n",
    "hello()"
   ]
  },
  {
   "cell_type": "code",
   "execution_count": 5,
   "metadata": {},
   "outputs": [
    {
     "name": "stdout",
     "output_type": "stream",
     "text": [
      "3.141592653589793\n",
      "2.718281828459045\n"
     ]
    }
   ],
   "source": [
    "#math function\n",
    "import math\n",
    "print(math.pi)\n",
    "print(math.e)\n",
    "\n",
    "\n",
    "\n",
    "\n",
    "\n",
    "\n",
    "\n"
   ]
  },
  {
   "cell_type": "code",
   "execution_count": 6,
   "metadata": {},
   "outputs": [
    {
     "name": "stdout",
     "output_type": "stream",
     "text": [
      "enter radius2\n",
      "12.566370614359172\n"
     ]
    }
   ],
   "source": [
    "import math\n",
    "#area of circle\n",
    "r=int(input(\"enter radius\"))\n",
    "a= math.pi*math.pow(r,2)\n",
    "print(a)\n"
   ]
  },
  {
   "cell_type": "code",
   "execution_count": 8,
   "metadata": {},
   "outputs": [
    {
     "data": {
      "text/plain": [
       "1.0"
      ]
     },
     "execution_count": 8,
     "metadata": {},
     "output_type": "execute_result"
    }
   ],
   "source": [
    "import math as m\n",
    "a=m.pi/2\n",
    "m.sin(a)"
   ]
  },
  {
   "cell_type": "code",
   "execution_count": 9,
   "metadata": {},
   "outputs": [
    {
     "data": {
      "text/plain": [
       "120"
      ]
     },
     "execution_count": 9,
     "metadata": {},
     "output_type": "execute_result"
    }
   ],
   "source": [
    "m.factorial(5)\n"
   ]
  },
  {
   "cell_type": "code",
   "execution_count": null,
   "metadata": {},
   "outputs": [],
   "source": [
    "\n",
    "def cal():\n",
    "    all_total=0\n",
    "    bill=0\n",
    "    net_bill=0\n",
    "    \n",
    "    name = input(\"Enter name =\")\n",
    "    price = int(input(\"Enter price =\"))\n",
    "    quantity = int(input(\"Enter quantity=\"))\n",
    "\n",
    "    total = price*quantity\n",
    "    all_total = all_total+total\n",
    "    bill = name + \" \" +str(price)+\" \"+ str(quantity)+ \" \" +str(total)\n",
    "    net_bill = str(net_bill)+str(bill)+\"\\n\"\n",
    "    \n",
    "    print(\"My net bill is = \\n\",net_bill)\n",
    "    print(\"My all total = \",all_total)\n",
    "    cal()\n",
    "cal()\n",
    "\n",
    "x = str(input(\"enter times of repetition\"))\n",
    "\n",
    "\n"
   ]
  },
  {
   "cell_type": "code",
   "execution_count": 8,
   "metadata": {},
   "outputs": [
    {
     "name": "stdout",
     "output_type": "stream",
     "text": [
      "I am from Sweden\n",
      "I am from India\n",
      "I am from Norway\n",
      "I am from Norway\n"
     ]
    }
   ],
   "source": [
    "def my_function(country = \"Norway\"):\n",
    "  print(\"I am from \" + country)\n",
    "\n",
    "my_function(\"Sweden\")\n",
    "my_function(\"India\")\n",
    "my_function()\n",
    "my_function()"
   ]
  },
  {
   "cell_type": "code",
   "execution_count": 1,
   "metadata": {},
   "outputs": [
    {
     "name": "stdout",
     "output_type": "stream",
     "text": [
      "\n",
      "\n",
      "Recursion Example Results\n",
      "1\n",
      "3\n",
      "6\n",
      "10\n",
      "15\n",
      "21\n"
     ]
    },
    {
     "data": {
      "text/plain": [
       "21"
      ]
     },
     "execution_count": 1,
     "metadata": {},
     "output_type": "execute_result"
    }
   ],
   "source": [
    "def tri_recursion(k):\n",
    "  if(k > 0):\n",
    "    result = k + tri_recursion(k - 1)\n",
    "    print(result)\n",
    "  else:\n",
    "    result = 0\n",
    "  return result\n",
    "\n",
    "print(\"\\n\\nRecursion Example Results\")\n",
    "tri_recursion(6)"
   ]
  },
  {
   "cell_type": "code",
   "execution_count": 6,
   "metadata": {},
   "outputs": [
    {
     "ename": "NameError",
     "evalue": "name 'net_bill' is not defined",
     "output_type": "error",
     "traceback": [
      "\u001b[1;31m---------------------------------------------------------------------------\u001b[0m",
      "\u001b[1;31mNameError\u001b[0m                                 Traceback (most recent call last)",
      "\u001b[1;32m<ipython-input-6-790425fd6ebb>\u001b[0m in \u001b[0;36m<module>\u001b[1;34m\u001b[0m\n\u001b[0;32m     18\u001b[0m     \u001b[0mx\u001b[0m \u001b[1;33m=\u001b[0m \u001b[0mstr\u001b[0m\u001b[1;33m(\u001b[0m\u001b[0minput\u001b[0m\u001b[1;33m(\u001b[0m\u001b[1;34m\"enter times of repetition\"\u001b[0m\u001b[1;33m)\u001b[0m\u001b[1;33m)\u001b[0m\u001b[1;33m\u001b[0m\u001b[1;33m\u001b[0m\u001b[0m\n\u001b[0;32m     19\u001b[0m     \u001b[1;32mreturn\u001b[0m \u001b[0mall_total\u001b[0m\u001b[1;33m\u001b[0m\u001b[1;33m\u001b[0m\u001b[0m\n\u001b[1;32m---> 20\u001b[1;33m \u001b[0mcal\u001b[0m\u001b[1;33m(\u001b[0m\u001b[0mnet_bill\u001b[0m\u001b[1;33m)\u001b[0m\u001b[1;33m\u001b[0m\u001b[1;33m\u001b[0m\u001b[0m\n\u001b[0m",
      "\u001b[1;31mNameError\u001b[0m: name 'net_bill' is not defined"
     ]
    }
   ],
   "source": [
    "def cal():\n",
    "    all_total=0\n",
    "    bill=0\n",
    "    net_bill=0\n",
    "    \n",
    "    name = input(\"Enter name =\")\n",
    "    price = int(input(\"Enter price =\"))\n",
    "    quantity = int(input(\"Enter quantity=\"))\n",
    "\n",
    "    total = price*quantity\n",
    "    all_total = all_total+total\n",
    "    bill = name + \" \" +str(price)+\" \"+ str(quantity)+ \" \" +str(total)\n",
    "    net_bill = str(net_bill)+str(bill)+\"\\n\"\n",
    "    \n",
    "    \n",
    "    print(\"My net bill is = \\n\",net_bill)\n",
    "    print(\"My all total = \",all_total)\n",
    "    x = str(input(\"enter times of repetition\"))\n",
    "    return all_total\n",
    "    cal()\n",
    "cal()\n"
   ]
  },
  {
   "cell_type": "code",
   "execution_count": null,
   "metadata": {},
   "outputs": [],
   "source": []
  }
 ],
 "metadata": {
  "kernelspec": {
   "display_name": "Python 3",
   "language": "python",
   "name": "python3"
  },
  "language_info": {
   "codemirror_mode": {
    "name": "ipython",
    "version": 3
   },
   "file_extension": ".py",
   "mimetype": "text/x-python",
   "name": "python",
   "nbconvert_exporter": "python",
   "pygments_lexer": "ipython3",
   "version": "3.8.5"
  }
 },
 "nbformat": 4,
 "nbformat_minor": 4
}
