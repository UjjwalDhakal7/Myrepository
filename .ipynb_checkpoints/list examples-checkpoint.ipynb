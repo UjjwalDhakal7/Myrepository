{
 "cells": [
  {
   "cell_type": "code",
   "execution_count": 7,
   "metadata": {},
   "outputs": [
    {
     "name": "stdout",
     "output_type": "stream",
     "text": [
      "enetr value of n2\n",
      "enter the name of product =a\n",
      "enter price2\n",
      "enter quantity23\n",
      "enter the name of product =b\n",
      "enter price24\n",
      "enter quantity24\n",
      "the billing is \n",
      " [[1, 'a', 2, 23, 46], [2, 'b', 24, 24, 576]]\n"
     ]
    }
   ],
   "source": [
    "#wap to create a billing system\n",
    "bill = []\n",
    "net_total=0\n",
    "n = int(input(\"enetr value of n\"))\n",
    "for i in range(1,n+1):\n",
    "    name = input(\"enter the name of product =\")\n",
    "    price = int(input(\"enter price\"))\n",
    "    quantity = int(input(\"enter quantity\"))\n",
    "    total =  price * quantity\n",
    "    row = [i,name,price,quantity,total]\n",
    "    bill.append(row)\n",
    "    net_total = net_total + total\n",
    "print(\"the billing is \\n\",bill)"
   ]
  },
  {
   "cell_type": "code",
   "execution_count": 9,
   "metadata": {},
   "outputs": [
    {
     "name": "stdout",
     "output_type": "stream",
     "text": [
      "[1, 'a', 2, 23, 46]\n",
      "[2, 'b', 24, 24, 576]\n"
     ]
    }
   ],
   "source": [
    "for i in bill:\n",
    "    print(i)"
   ]
  },
  {
   "cell_type": "code",
   "execution_count": 14,
   "metadata": {},
   "outputs": [
    {
     "name": "stdout",
     "output_type": "stream",
     "text": [
      "enter product name: momo\n"
     ]
    }
   ],
   "source": [
    "search = input(\"enter product name: \")\n",
    "for i in bill:\n",
    "    if search in i:\n",
    "        print(i)"
   ]
  },
  {
   "cell_type": "code",
   "execution_count": 26,
   "metadata": {},
   "outputs": [
    {
     "name": "stdout",
     "output_type": "stream",
     "text": [
      "enter number of student2\n",
      "enter name of studentram\n",
      "enter marks in physics23\n",
      "enter marks in chemistry23\n",
      "enter marks in maths23\n",
      "enter marks in english23\n",
      "the result is  [1, 234, 32, 32, 42, 340, 68.0, 'B']\n",
      "enter name of studentshyam\n",
      "enter marks in physics34\n",
      "enter marks in chemistry34\n",
      "enter marks in maths34\n",
      "enter marks in english34\n",
      "the result is  [0, 23, 23, 23, 23, 92, 18.4, 'D']\n"
     ]
    }
   ],
   "source": [
    "result = []\n",
    "n=int(input(\"enter number of student\"))\n",
    "for i in range(n):\n",
    "    name = input(\"enter name of student\")\n",
    "    physics = int(input(\"enter marks in physics\"))\n",
    "    chemistry = int(input(\"enter marks in chemistry\"))\n",
    "    maths = int(input(\"enter marks in maths\"))\n",
    "    english = int(input(\"enter marks in english\"))\n",
    "    total = sum([physics,chemistry,maths,english])\n",
    "    percentage = total/5\n",
    "    print(\"the result is \",data)\n",
    "    if percentage > 80:\n",
    "        grade = \"A\"\n",
    "    elif percentage > 60:\n",
    "        grade = \"B\"\n",
    "    elif percentage > 40:\n",
    "        grade = \"C\"\n",
    "    else:\n",
    "        grade = \"D\"\n",
    "    data = [i,physics,chemistry,maths,english,total,percentage,grade]\n",
    "    result.append(data)    \n",
    "print(result)"
   ]
  },
  {
   "cell_type": "code",
   "execution_count": null,
   "metadata": {},
   "outputs": [],
   "source": []
  }
 ],
 "metadata": {
  "kernelspec": {
   "display_name": "Python 3",
   "language": "python",
   "name": "python3"
  },
  "language_info": {
   "codemirror_mode": {
    "name": "ipython",
    "version": 3
   },
   "file_extension": ".py",
   "mimetype": "text/x-python",
   "name": "python",
   "nbconvert_exporter": "python",
   "pygments_lexer": "ipython3",
   "version": "3.8.5"
  }
 },
 "nbformat": 4,
 "nbformat_minor": 4
}
