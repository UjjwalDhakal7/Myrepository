{
 "cells": [
  {
   "cell_type": "code",
   "execution_count": 1,
   "metadata": {},
   "outputs": [],
   "source": [
    "#dictionary\n",
    "#indexed\n",
    "#dupicate members\n",
    "#ordered\n",
    "#no duplicate index\n",
    "#mutable\n",
    "#works in key value pair"
   ]
  },
  {
   "cell_type": "code",
   "execution_count": 1,
   "metadata": {},
   "outputs": [
    {
     "name": "stdout",
     "output_type": "stream",
     "text": [
      "{}\n",
      "{}\n"
     ]
    },
    {
     "data": {
      "text/plain": [
       "dict"
      ]
     },
     "execution_count": 1,
     "metadata": {},
     "output_type": "execute_result"
    }
   ],
   "source": [
    "a = {}\n",
    "b = dict()\n",
    "print(a)\n",
    "print(b)\n",
    "type(a)"
   ]
  },
  {
   "cell_type": "code",
   "execution_count": 12,
   "metadata": {},
   "outputs": [],
   "source": [
    "#a = {<key>:<value>,<key>:<value>,...}\n",
    "#key--->> define index manually"
   ]
  },
  {
   "cell_type": "code",
   "execution_count": 4,
   "metadata": {},
   "outputs": [
    {
     "name": "stdout",
     "output_type": "stream",
     "text": [
      "Mustang\n"
     ]
    }
   ],
   "source": [
    "a = {\n",
    "  \"brand\": \"Ford\",\n",
    "  \"model\": \"Mustang\",\n",
    "  \"year\": 1964\n",
    "}\n",
    "x = print(a[\"model\"])"
   ]
  },
  {
   "cell_type": "code",
   "execution_count": 5,
   "metadata": {},
   "outputs": [
    {
     "name": "stdout",
     "output_type": "stream",
     "text": [
      "Mustang\n"
     ]
    }
   ],
   "source": [
    "print(a[\"model\"])"
   ]
  },
  {
   "cell_type": "code",
   "execution_count": 9,
   "metadata": {},
   "outputs": [
    {
     "data": {
      "text/plain": [
       "dict_values(['Ford', 'Mustang', 1964])"
      ]
     },
     "execution_count": 9,
     "metadata": {},
     "output_type": "execute_result"
    }
   ],
   "source": [
    "a.values()"
   ]
  },
  {
   "cell_type": "code",
   "execution_count": 10,
   "metadata": {},
   "outputs": [
    {
     "name": "stdout",
     "output_type": "stream",
     "text": [
      "{'brand': 'Ford', 'model': 'Mustang', 'year': 1964}\n"
     ]
    }
   ],
   "source": [
    "print(a)"
   ]
  },
  {
   "cell_type": "code",
   "execution_count": 11,
   "metadata": {},
   "outputs": [
    {
     "data": {
      "text/plain": [
       "dict_keys(['brand', 'model', 'year'])"
      ]
     },
     "execution_count": 11,
     "metadata": {},
     "output_type": "execute_result"
    }
   ],
   "source": [
    "a.keys()"
   ]
  },
  {
   "cell_type": "code",
   "execution_count": 13,
   "metadata": {},
   "outputs": [
    {
     "data": {
      "text/plain": [
       "dict_items([('brand', 'Ford'), ('model', 'Mustang'), ('year', 1964)])"
      ]
     },
     "execution_count": 13,
     "metadata": {},
     "output_type": "execute_result"
    }
   ],
   "source": [
    "a.items()"
   ]
  },
  {
   "cell_type": "code",
   "execution_count": null,
   "metadata": {},
   "outputs": [],
   "source": []
  },
  {
   "cell_type": "code",
   "execution_count": 16,
   "metadata": {},
   "outputs": [
    {
     "name": "stdout",
     "output_type": "stream",
     "text": [
      "enter n3\n",
      "dict_items([('brand', 'Ford'), ('model', 'Mustang'), ('year', 1964)])\n",
      "dict_items([('brand', 'Ford'), ('model', 'Mustang'), ('year', 1964)])\n",
      "dict_items([('brand', 'Ford'), ('model', 'Mustang'), ('year', 1964)])\n"
     ]
    }
   ],
   "source": [
    "n = int(input(\"enter n\"))\n",
    "for i in range(n):\n",
    "    print(a.items())"
   ]
  },
  {
   "cell_type": "code",
   "execution_count": 32,
   "metadata": {},
   "outputs": [],
   "source": [
    "c =  [{\"title\":\"Glass\",\"price\":350,\"discounted_price\":100,\"status\":\"In\",\"label\":\"hot\",\"category\":3,\"brand\":1},\n",
    "     {\"title\":\"T shirt\",\"price\":1000,\"discounted_price\":999,\"status\":\"In\",\"label\":\"hot\",\"category\":3,\"brand\":1},\n",
    "     {\"title\":\"Head Phone\",\"price\":2000,\"discounted_price\":1999,\"status\":\"In\",\"label\":\"new\",\"category\":1,\"brand\":1},\n",
    "     {\"title\":\"Acer laptop\",\"price\":350,\"discounted_price\":0,\"status\":\"In\",\"label\":\"new\",\"category\":1,\"brand\":1},\n",
    "     {\"title\":\"Jeans\",\"price\":4000,\"discounted_price\":3499,\"status\":\"In\",\"label\":\"hot\",\"category\":3,\"brand\":1},\n",
    "     {\"title\":\"Shoes\",\"price\":2500,\"discounted_price\":2299,\"status\":\"In\",\"label\":\"new\",\"category\":1,\"brand\":1}]\n",
    "\n",
    "\n"
   ]
  },
  {
   "cell_type": "code",
   "execution_count": 30,
   "metadata": {},
   "outputs": [
    {
     "data": {
      "text/plain": [
       "[{'title': 'Glass',\n",
       "  'price': 350,\n",
       "  'discounted_price': 100,\n",
       "  'status': 'In',\n",
       "  'label': 'hot',\n",
       "  'category': 3,\n",
       "  'brand': 1},\n",
       " {'title': 'T shirt',\n",
       "  'price': 1000,\n",
       "  'discounted_price': 999,\n",
       "  'status': 'In',\n",
       "  'label': 'hot',\n",
       "  'category': 3,\n",
       "  'brand': 1},\n",
       " {'title': 'Head Phone',\n",
       "  'price': 2000,\n",
       "  'discounted_price': 1999,\n",
       "  'status': 'In',\n",
       "  'label': 'new',\n",
       "  'category': 1,\n",
       "  'brand': 1},\n",
       " {'title': 'Acer laptop',\n",
       "  'price': 350,\n",
       "  'discounted_price': 0,\n",
       "  'status': 'In',\n",
       "  'label': 'new',\n",
       "  'category': 1,\n",
       "  'brand': 1},\n",
       " {'title': 'Jeans',\n",
       "  'price': 4000,\n",
       "  'discounted_price': 3499,\n",
       "  'status': 'In',\n",
       "  'label': 'hot',\n",
       "  'category': 3,\n",
       "  'brand': 1},\n",
       " {'title': 'Shoes',\n",
       "  'price': 2500,\n",
       "  'discounted_price': 2299,\n",
       "  'status': 'In',\n",
       "  'label': 'new',\n",
       "  'category': 1,\n",
       "  'brand': 1}]"
      ]
     },
     "execution_count": 30,
     "metadata": {},
     "output_type": "execute_result"
    }
   ],
   "source": [
    "c\n"
   ]
  },
  {
   "cell_type": "code",
   "execution_count": 33,
   "metadata": {},
   "outputs": [
    {
     "name": "stdout",
     "output_type": "stream",
     "text": [
      "enter  number of items2\n",
      "enter name of item :Shoes\n",
      "enter name of item :Jeans\n"
     ]
    }
   ],
   "source": [
    "total = \"\"\n",
    "n =  int(input(\"enter  number of items\"))\n",
    "for i in range(n):\n",
    "    title = input(\"enter name of item :\")\n",
    "    if \"title\" in c:\n",
    "        total = price * quantity\n",
    "        print(total)"
   ]
  },
  {
   "cell_type": "code",
   "execution_count": null,
   "metadata": {},
   "outputs": [],
   "source": []
  }
 ],
 "metadata": {
  "kernelspec": {
   "display_name": "Python 3",
   "language": "python",
   "name": "python3"
  },
  "language_info": {
   "codemirror_mode": {
    "name": "ipython",
    "version": 3
   },
   "file_extension": ".py",
   "mimetype": "text/x-python",
   "name": "python",
   "nbconvert_exporter": "python",
   "pygments_lexer": "ipython3",
   "version": "3.8.5"
  }
 },
 "nbformat": 4,
 "nbformat_minor": 4
}
