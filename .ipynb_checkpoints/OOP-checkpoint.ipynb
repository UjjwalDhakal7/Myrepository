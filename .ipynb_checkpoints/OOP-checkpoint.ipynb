{
 "cells": [
  {
   "cell_type": "code",
   "execution_count": 1,
   "metadata": {},
   "outputs": [],
   "source": [
    "#class\n",
    "#first letter always capital\n",
    "#object is used to initialize a class\n",
    "#methods are functions defined inside a class"
   ]
  },
  {
   "cell_type": "code",
   "execution_count": 2,
   "metadata": {},
   "outputs": [],
   "source": [
    "#syntax:\n",
    "#class <class_name>:\n",
    "#    <methods>\n",
    "#    <methods1>\n",
    "#obj = <class_name>()"
   ]
  },
  {
   "cell_type": "code",
   "execution_count": 3,
   "metadata": {},
   "outputs": [
    {
     "name": "stdout",
     "output_type": "stream",
     "text": [
      "hello world\n"
     ]
    }
   ],
   "source": [
    "class Hello:\n",
    "    print(\"hello world\")\n",
    "obj = hello()"
   ]
  },
  {
   "cell_type": "code",
   "execution_count": 6,
   "metadata": {},
   "outputs": [
    {
     "name": "stdout",
     "output_type": "stream",
     "text": [
      "hello world\n"
     ]
    }
   ],
   "source": [
    "class Hello:\n",
    "    def hello(self): \n",
    "        print(\"hello world\")\n",
    "obj = Hello()\n",
    "obj.hello()"
   ]
  },
  {
   "cell_type": "code",
   "execution_count": 9,
   "metadata": {},
   "outputs": [
    {
     "name": "stdout",
     "output_type": "stream",
     "text": [
      "hello world\n",
      "Hello I am python\n"
     ]
    }
   ],
   "source": [
    "class Hello:\n",
    "    def hello(self): \n",
    "        print(\"hello world\")\n",
    "    def python(self):\n",
    "        print(\"Hello I am python\")\n",
    "obj = Hello()\n",
    "obj.hello()\n",
    "obj.python()"
   ]
  },
  {
   "cell_type": "code",
   "execution_count": 1,
   "metadata": {},
   "outputs": [
    {
     "name": "stdout",
     "output_type": "stream",
     "text": [
      "enter value of l2\n",
      "enter value of b3\n",
      "enter value of h4\n",
      "24\n",
      "enter value of l2\n",
      "enter value of b3\n",
      "6\n"
     ]
    }
   ],
   "source": [
    "class Cal:\n",
    "    def volume(self):\n",
    "        l = int(input(\"enter value of l\"))\n",
    "        b = int(input(\"enter value of b\"))\n",
    "        h = int(input(\"enter value of h\"))\n",
    "        v = l*b*h\n",
    "        print(v)\n",
    "    def area(self):\n",
    "        l = int(input(\"enter value of l\"))\n",
    "        b = int(input(\"enter value of b\"))\n",
    "        a = l*b\n",
    "        print(a)\n",
    "obj = Cal()\n",
    "obj.volume()\n",
    "obj.area()\n",
    "        "
   ]
  },
  {
   "cell_type": "code",
   "execution_count": 3,
   "metadata": {},
   "outputs": [
    {
     "name": "stdout",
     "output_type": "stream",
     "text": [
      "enter value of l2\n",
      "enter value of b3\n",
      "enter value of h4\n",
      "24\n",
      "6\n"
     ]
    }
   ],
   "source": [
    "class Cal:\n",
    "    def volume(self,l,b,h):\n",
    "        v = l*b*h\n",
    "        return v\n",
    "    def area(self,l,b):\n",
    "        a = l*b\n",
    "        return a\n",
    "        \n",
    "l = int(input(\"enter value of l\"))\n",
    "b = int(input(\"enter value of b\"))\n",
    "h = int(input(\"enter value of h\"))\n",
    "obj = Cal()\n",
    "print(obj.volume(l,b,h))\n",
    "print(obj.area(l,b))\n",
    "        "
   ]
  },
  {
   "cell_type": "code",
   "execution_count": 6,
   "metadata": {},
   "outputs": [
    {
     "name": "stdout",
     "output_type": "stream",
     "text": [
      "enter value of l2\n",
      "enter value of b3\n",
      "enter value of h4\n",
      "24\n",
      "6\n"
     ]
    }
   ],
   "source": [
    "class Cal:\n",
    "    def __init__(self,l,b,h): #constructor\n",
    "        self.l = l\n",
    "        self.b = b\n",
    "        self.h = h\n",
    "    def volume(self):\n",
    "        v = self.l*self.b*self.h\n",
    "        return v\n",
    "    def area(self):\n",
    "        a = self.l*self.b\n",
    "        return a\n",
    "        \n",
    "l = int(input(\"enter value of l\"))\n",
    "b = int(input(\"enter value of b\"))\n",
    "h = int(input(\"enter value of h\"))\n",
    "obj = Cal(l,b,h)\n",
    "print(obj.volume())\n",
    "print(obj.area())\n",
    "        "
   ]
  },
  {
   "cell_type": "code",
   "execution_count": 8,
   "metadata": {},
   "outputs": [
    {
     "name": "stdout",
     "output_type": "stream",
     "text": [
      "enter value of l2\n",
      "enter value of b3\n",
      "enter value of h4\n",
      "24\n",
      "6\n"
     ]
    }
   ],
   "source": [
    "class Volume:\n",
    "    def __init__(self,l,b,h): #constructor\n",
    "        self.l = l\n",
    "        self.b = b\n",
    "        self.h = h\n",
    "    def volume(self):\n",
    "        v = self.l*self.b*self.h\n",
    "        return v\n",
    "class Area:\n",
    "    def __init__(self,l,b): #constructor\n",
    "        self.l = l\n",
    "        self.b = b\n",
    "    def area(self):\n",
    "        a = self.l*self.b\n",
    "        return a\n",
    "        \n",
    "l = int(input(\"enter value of l\"))\n",
    "b = int(input(\"enter value of b\"))\n",
    "h = int(input(\"enter value of h\"))\n",
    "obj1 = Volume(l,b,h)\n",
    "obj2 = Area(l,b)\n",
    "print(obj1.volume())\n",
    "print(obj2.area())\n",
    "        "
   ]
  },
  {
   "cell_type": "code",
   "execution_count": 12,
   "metadata": {},
   "outputs": [
    {
     "name": "stdout",
     "output_type": "stream",
     "text": [
      "enter value of l2\n",
      "enter value of b3\n",
      "enter value of h4\n",
      "24\n",
      "6\n"
     ]
    }
   ],
   "source": [
    "class Cal:\n",
    "    def __init__(self,l,b): #constructor\n",
    "        self.l = l\n",
    "        self.b = b\n",
    "    def volume(this,h):\n",
    "        v = this.l*this.b*h\n",
    "        return v\n",
    "    def area(self):\n",
    "        a = self.l*self.b\n",
    "        return a\n",
    "        \n",
    "l = int(input(\"enter value of l\"))\n",
    "b = int(input(\"enter value of b\"))\n",
    "h = int(input(\"enter value of h\"))\n",
    "obj = Cal(l,b)\n",
    "\n",
    "print(obj.volume(h))\n",
    "print(obj.area())\n",
    "        "
   ]
  },
  {
   "cell_type": "code",
   "execution_count": 19,
   "metadata": {},
   "outputs": [
    {
     "name": "stdout",
     "output_type": "stream",
     "text": [
      "<class '__main__.Info'>\n",
      "Ram\n",
      "Ram\n",
      "Ram\n"
     ]
    }
   ],
   "source": [
    "#str method\n",
    "class Info:\n",
    "    def __init__(self,name,age,address):\n",
    "        self.name = name\n",
    "        self.age = age\n",
    "        self.address = address\n",
    "    \n",
    "    def __str__(self):\n",
    "        return self.name\n",
    "\n",
    "obj = Info(\"Ram\",35,\"baneshwor\")\n",
    "print(type(obj))\n",
    "#ways to print\n",
    "print(obj)    \n",
    "print(obj.__str__())\n",
    "print(str(obj))\n"
   ]
  },
  {
   "cell_type": "code",
   "execution_count": 20,
   "metadata": {},
   "outputs": [
    {
     "name": "stdout",
     "output_type": "stream",
     "text": [
      "<class '__main__.Info'>\n",
      "['Ram', 35, 'baneshwor']\n"
     ]
    }
   ],
   "source": [
    "#repr method(used for tabular data)\n",
    "class Info:\n",
    "    def __init__(self,name,age,address):\n",
    "        self.name = name\n",
    "        self.age = age\n",
    "        self.address = address\n",
    "    \n",
    "    def __repr__(self):\n",
    "        return [self.name,self.age,self.address]\n",
    "\n",
    "obj = Info(\"Ram\",35,\"baneshwor\")\n",
    "print(type(obj))\n",
    "#ways to print\n",
    "print(obj.__repr__())\n"
   ]
  },
  {
   "cell_type": "code",
   "execution_count": 1,
   "metadata": {},
   "outputs": [
    {
     "ename": "TypeError",
     "evalue": "Cal() takes no arguments",
     "output_type": "error",
     "traceback": [
      "\u001b[1;31m---------------------------------------------------------------------------\u001b[0m",
      "\u001b[1;31mTypeError\u001b[0m                                 Traceback (most recent call last)",
      "\u001b[1;32m<ipython-input-1-a213b7acdb17>\u001b[0m in \u001b[0;36m<module>\u001b[1;34m\u001b[0m\n\u001b[0;32m      4\u001b[0m         \u001b[0mself\u001b[0m\u001b[1;33m.\u001b[0m\u001b[0mx\u001b[0m \u001b[1;33m=\u001b[0m \u001b[0mx\u001b[0m\u001b[1;33m\u001b[0m\u001b[1;33m\u001b[0m\u001b[0m\n\u001b[0;32m      5\u001b[0m         \u001b[0mself\u001b[0m\u001b[1;33m.\u001b[0m\u001b[0my\u001b[0m \u001b[1;33m=\u001b[0m \u001b[0my\u001b[0m\u001b[1;33m\u001b[0m\u001b[1;33m\u001b[0m\u001b[0m\n\u001b[1;32m----> 6\u001b[1;33m \u001b[0mobj\u001b[0m \u001b[1;33m=\u001b[0m \u001b[0mCal\u001b[0m\u001b[1;33m(\u001b[0m\u001b[1;36m20\u001b[0m\u001b[1;33m,\u001b[0m\u001b[1;36m30\u001b[0m\u001b[1;33m)\u001b[0m\u001b[1;33m\u001b[0m\u001b[1;33m\u001b[0m\u001b[0m\n\u001b[0m\u001b[0;32m      7\u001b[0m \u001b[0mobj1\u001b[0m \u001b[1;33m=\u001b[0m \u001b[0mCal\u001b[0m\u001b[1;33m(\u001b[0m\u001b[1;36m30\u001b[0m\u001b[1;33m,\u001b[0m\u001b[1;36m50\u001b[0m\u001b[1;33m)\u001b[0m\u001b[1;33m\u001b[0m\u001b[1;33m\u001b[0m\u001b[0m\n\u001b[0;32m      8\u001b[0m \u001b[0mprint\u001b[0m\u001b[1;33m(\u001b[0m\u001b[0mobj\u001b[0m\u001b[1;33m+\u001b[0m\u001b[0mobj1\u001b[0m\u001b[1;33m)\u001b[0m\u001b[1;33m\u001b[0m\u001b[1;33m\u001b[0m\u001b[0m\n",
      "\u001b[1;31mTypeError\u001b[0m: Cal() takes no arguments"
     ]
    }
   ],
   "source": [
    "#operator overloading\n",
    "class Cal:\n",
    "    def __inti__(self,x,y):\n",
    "        self.x = x\n",
    "        self.y = y\n",
    "obj = Cal(20,30)\n",
    "obj1 = Cal(30,50)\n",
    "print(obj+obj1)"
   ]
  },
  {
   "cell_type": "code",
   "execution_count": 17,
   "metadata": {},
   "outputs": [
    {
     "name": "stdout",
     "output_type": "stream",
     "text": [
      "this in init function 2 3\n",
      "this in init function 4 5\n",
      "this is add function 6 8\n",
      "this in init function 6 8\n",
      "6 8\n"
     ]
    }
   ],
   "source": [
    "class Point:\n",
    "    def __init__(self,x,y):\n",
    "        self.x = x\n",
    "        self.y = y\n",
    "        print(\"this in init function\",self.x,self.y)\n",
    "        \n",
    "    def __str__(self):\n",
    "        return f\"{self.x} {self.y}\"\n",
    "\n",
    "    def __add__(self,other):\n",
    "        x = self.x + other.x\n",
    "        y = self.y + other.y\n",
    "        print(\"this is add function\",x,y)\n",
    "        return Point(x,y)\n",
    "p1 = Point(2,3)\n",
    "p2 = Point(4,5)\n",
    "print(p1 + p2)"
   ]
  },
  {
   "cell_type": "code",
   "execution_count": 14,
   "metadata": {},
   "outputs": [
    {
     "name": "stdout",
     "output_type": "stream",
     "text": [
      "this in init function 200\n",
      "this in init function 400\n",
      "this in init function 500\n",
      "this is add function 600\n",
      "this in init function 600\n",
      "this is add function 1100\n",
      "this in init function 1100\n",
      "1100\n"
     ]
    }
   ],
   "source": [
    "class Point:\n",
    "    def __init__(self,x):\n",
    "        self.x = x\n",
    "        print(\"this in init function\",self.x)\n",
    "        \n",
    "    def __str__(self):\n",
    "        return f\"{self.x}\"\n",
    "\n",
    "    def __add__(self,other):\n",
    "        x = self.x + other.x\n",
    "        print(\"this is add function\",x)\n",
    "        return Point(x)\n",
    "p1 = Point(200)\n",
    "p2 = Point(400)\n",
    "p3 = Point(500)\n",
    "print(p1 + p2 +p3)"
   ]
  },
  {
   "cell_type": "code",
   "execution_count": 20,
   "metadata": {},
   "outputs": [
    {
     "name": "stdout",
     "output_type": "stream",
     "text": [
      "parrot can fly\n",
      "Penguin can't fly\n"
     ]
    }
   ],
   "source": [
    "#polymorphism -->> same functions in different classes\n",
    "\n",
    "class Parrot:\n",
    "    def fly(self):\n",
    "        print(\"parrot can fly\")\n",
    "\n",
    "class Penguin:\n",
    "    def fly(self):\n",
    "        print(\"Penguin can't fly\")\n",
    "\n",
    "#common interference\n",
    "def flying_test(bird):\n",
    "    bird.fly()\n",
    "\n",
    "#instantiate objects\n",
    "blu = Parrot()\n",
    "peggy = Penguin()\n",
    "\n",
    "#pasingthe object\n",
    "flying_test(blu)\n",
    "flying_test(peggy)"
   ]
  },
  {
   "cell_type": "code",
   "execution_count": null,
   "metadata": {},
   "outputs": [],
   "source": [
    "#public,protected,private attributes\n"
   ]
  }
 ],
 "metadata": {
  "kernelspec": {
   "display_name": "Python 3",
   "language": "python",
   "name": "python3"
  },
  "language_info": {
   "codemirror_mode": {
    "name": "ipython",
    "version": 3
   },
   "file_extension": ".py",
   "mimetype": "text/x-python",
   "name": "python",
   "nbconvert_exporter": "python",
   "pygments_lexer": "ipython3",
   "version": "3.8.5"
  }
 },
 "nbformat": 4,
 "nbformat_minor": 4
}
