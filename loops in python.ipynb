{
 "cells": [
  {
   "cell_type": "code",
   "execution_count": 1,
   "metadata": {},
   "outputs": [
    {
     "name": "stdout",
     "output_type": "stream",
     "text": [
      "5\n",
      "10\n",
      "15\n",
      "20\n",
      "25\n",
      "30\n",
      "35\n",
      "40\n",
      "45\n",
      "50\n"
     ]
    }
   ],
   "source": [
    "\n",
    "#range()\n",
    "#range(5)\n",
    "#range(1,5)\n",
    "#range(1,5,2)  ---->> executes less than adding 2\n",
    "#for i in range(5) ---->> in creates a sequence from 0 to 5\n",
    "\n",
    "\n",
    "\n",
    "#wap for multiplication table\n",
    "\n",
    "x=5\n",
    "for i in range(1,11):\n",
    "    print(i*x)"
   ]
  },
  {
   "cell_type": "code",
   "execution_count": 5,
   "metadata": {},
   "outputs": [
    {
     "name": "stdout",
     "output_type": "stream",
     "text": [
      "enter a number3\n",
      "3 * 1 = 3\n",
      "3 * 2 = 6\n",
      "3 * 3 = 9\n",
      "3 * 4 = 12\n",
      "3 * 5 = 15\n",
      "3 * 6 = 18\n",
      "3 * 7 = 21\n",
      "3 * 8 = 24\n",
      "3 * 9 = 27\n",
      "3 * 10 = 30\n"
     ]
    }
   ],
   "source": [
    "n= int(input(\"enter a number\"))\n",
    "for i in range(1,11):\n",
    "    print(n,\"*\",i,\"=\",i*n)\n",
    "    "
   ]
  },
  {
   "cell_type": "code",
   "execution_count": 9,
   "metadata": {},
   "outputs": [
    {
     "name": "stdout",
     "output_type": "stream",
     "text": [
      "enter value of n: 5\n",
      "factorial is  120\n"
     ]
    }
   ],
   "source": [
    "#5! = 5*4*3*2*1\n",
    "\n",
    "n = int(input(\"enter value of n: \"))\n",
    "fac = 1\n",
    "for i in range(1,n+1):\n",
    "    fac = fac *i\n",
    "print(\"factorial is \",fac)\n"
   ]
  },
  {
   "cell_type": "code",
   "execution_count": 19,
   "metadata": {},
   "outputs": [
    {
     "name": "stdout",
     "output_type": "stream",
     "text": [
      "enter x=w\n",
      "enter x=wap\n",
      "enter x=e\n",
      "enter x=w\n",
      "enter x=e\n"
     ]
    }
   ],
   "source": [
    "for i in range(5):\n",
    "    x = input(\"enter x=\")\n",
    "    if x==[0]:\n",
    "        print(\"x\")"
   ]
  },
  {
   "cell_type": "code",
   "execution_count": 20,
   "metadata": {},
   "outputs": [
    {
     "ename": "SyntaxError",
     "evalue": "invalid syntax (<ipython-input-20-0340bcd5c4e9>, line 7)",
     "output_type": "error",
     "traceback": [
      "\u001b[1;36m  File \u001b[1;32m\"<ipython-input-20-0340bcd5c4e9>\"\u001b[1;36m, line \u001b[1;32m7\u001b[0m\n\u001b[1;33m    info=name+\u001b[0m\n\u001b[1;37m              ^\u001b[0m\n\u001b[1;31mSyntaxError\u001b[0m\u001b[1;31m:\u001b[0m invalid syntax\n"
     ]
    }
   ],
   "source": [
    "#str(abc) is used for string input\n"
   ]
  },
  {
   "cell_type": "code",
   "execution_count": 22,
   "metadata": {},
   "outputs": [
    {
     "name": "stdout",
     "output_type": "stream",
     "text": [
      "p hello\n",
      "y hello\n",
      "t hello\n",
      "h hello\n",
      "o hello\n",
      "n hello\n"
     ]
    }
   ],
   "source": [
    "a = \"python\"\n",
    "for i in a:\n",
    "    print(i,\"hello\")\n"
   ]
  },
  {
   "cell_type": "code",
   "execution_count": 2,
   "metadata": {},
   "outputs": [
    {
     "name": "stdout",
     "output_type": "stream",
     "text": [
      "heeeoe eweoerede"
     ]
    }
   ],
   "source": [
    "a = \"hello world\"\n",
    "for i in a:\n",
    "    if i != \"l\":\n",
    "        print(i,end = \" \")"
   ]
  },
  {
   "cell_type": "code",
   "execution_count": 38,
   "metadata": {},
   "outputs": [
    {
     "name": "stdout",
     "output_type": "stream",
     "text": [
      "h\n",
      "e\n",
      "l\n",
      "l\n",
      "o\n",
      " \n"
     ]
    }
   ],
   "source": [
    "#control statements\n",
    "#break-->>>terminates the program when used\n",
    "#continue-->>>skips any condition at any step\n",
    "a = \"hello world\"\n",
    "for i in a:\n",
    "    if i == \"w\":\n",
    "        break\n",
    "    print(i)\n",
    "\n",
    "    \n",
    "    \n"
   ]
  },
  {
   "cell_type": "code",
   "execution_count": null,
   "metadata": {},
   "outputs": [],
   "source": []
  }
 ],
 "metadata": {
  "kernelspec": {
   "display_name": "Python 3",
   "language": "python",
   "name": "python3"
  },
  "language_info": {
   "codemirror_mode": {
    "name": "ipython",
    "version": 3
   },
   "file_extension": ".py",
   "mimetype": "text/x-python",
   "name": "python",
   "nbconvert_exporter": "python",
   "pygments_lexer": "ipython3",
   "version": "3.8.5"
  }
 },
 "nbformat": 4,
 "nbformat_minor": 4
}
