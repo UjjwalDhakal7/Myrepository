{
 "cells": [
  {
   "cell_type": "code",
   "execution_count": 1,
   "metadata": {},
   "outputs": [
    {
     "name": "stdout",
     "output_type": "stream",
     "text": [
      "enter your ageer\n",
      "enter integer value\n"
     ]
    }
   ],
   "source": [
    "try:\n",
    "    age = int(input(\"enter your age\"))\n",
    "except:\n",
    "    print(\"enter integer value\")"
   ]
  },
  {
   "cell_type": "code",
   "execution_count": 8,
   "metadata": {},
   "outputs": [
    {
     "name": "stdout",
     "output_type": "stream",
     "text": [
      "enter a :40\n",
      "enter b :20\n",
      "2.0\n",
      "you are inside cal function\n"
     ]
    },
    {
     "data": {
      "text/plain": [
       "1"
      ]
     },
     "execution_count": 8,
     "metadata": {},
     "output_type": "execute_result"
    }
   ],
   "source": [
    "def cal():\n",
    "    count = 1\n",
    "    try:\n",
    "        a = int(input(\"enter a :\"))\n",
    "        b = int(input(\"enter b :\"))\n",
    "        c = a/b\n",
    "    except valueerror:\n",
    "        print(\"The value of a and b should be integer type\")\n",
    "        cal()\n",
    "        count = count+1\n",
    "    except zerodivisionerror:\n",
    "        print(\"The value of a and b should not be zero\")\n",
    "        count = count+1\n",
    "        cal()\n",
    "    else:\n",
    "        print(c)\n",
    "    finally:\n",
    "        print(\"you are inside cal function\")\n",
    "    return count\n",
    "cal()"
   ]
  },
  {
   "cell_type": "code",
   "execution_count": 3,
   "metadata": {},
   "outputs": [
    {
     "name": "stdout",
     "output_type": "stream",
     "text": [
      "enter your email address :agrgbe\n"
     ]
    }
   ],
   "source": [
    " search = input(\"enter your email address :\")\n",
    "def cal():\n",
    "    data = [\"ujjwal@gmail.com\",\"12345678\"]\n",
    "    try:\n",
    "        if search in data:\n",
    "            print(data)\n",
    "        else\n",
    "        \n",
    "    except:\n",
    "        print(\"the email/password you entered is incorrect\")\n",
    "        cal()\n",
    "cal()"
   ]
  },
  {
   "cell_type": "code",
   "execution_count": 5,
   "metadata": {},
   "outputs": [
    {
     "name": "stdout",
     "output_type": "stream",
     "text": [
      "Enter a?dice\n",
      "dice\n"
     ]
    }
   ],
   "source": [
    "try:  \n",
    "    email = \"dice\"\n",
    "    a = str(input(\"Enter a?\"))  \n",
    "    if a in email:  \n",
    "        print(a)\n",
    "    else:  \n",
    "        raise ValueError  \n",
    "except ValueError:  \n",
    "    print(\"The value isn't accepted\")"
   ]
  },
  {
   "cell_type": "code",
   "execution_count": null,
   "metadata": {},
   "outputs": [],
   "source": []
  }
 ],
 "metadata": {
  "kernelspec": {
   "display_name": "Python 3",
   "language": "python",
   "name": "python3"
  },
  "language_info": {
   "codemirror_mode": {
    "name": "ipython",
    "version": 3
   },
   "file_extension": ".py",
   "mimetype": "text/x-python",
   "name": "python",
   "nbconvert_exporter": "python",
   "pygments_lexer": "ipython3",
   "version": "3.8.5"
  }
 },
 "nbformat": 4,
 "nbformat_minor": 4
}
