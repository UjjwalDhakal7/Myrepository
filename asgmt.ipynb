{
 "cells": [
  {
   "cell_type": "code",
   "execution_count": 9,
   "metadata": {},
   "outputs": [
    {
     "name": "stdout",
     "output_type": "stream",
     "text": [
      "enter a number2\n",
      "prime number\n"
     ]
    }
   ],
   "source": [
    "#wap to check prime or composite\n",
    "n = int(input(\"enter a number\"))\n",
    "for i in range(2,n):\n",
    "    if (n%i) == 0:\n",
    "        print(\"composite number\") \n",
    "        break  \n",
    "else:\n",
    "        print(\"prime number\")\n",
    "        "
   ]
  },
  {
   "cell_type": "code",
   "execution_count": 1,
   "metadata": {},
   "outputs": [
    {
     "name": "stdout",
     "output_type": "stream",
     "text": [
      "0\n",
      "1\n",
      "1\n",
      "2\n",
      "3\n",
      "5\n",
      "8\n",
      "13\n"
     ]
    }
   ],
   "source": [
    "#wap to display the fibonacci series\n",
    "a=0\n",
    "b=1\n",
    "c=''\n",
    "for i in range(1,9,1):\n",
    "    print(a)\n",
    "    c=a+b\n",
    "    a=b\n",
    "    b=c"
   ]
  },
  {
   "cell_type": "code",
   "execution_count": null,
   "metadata": {},
   "outputs": [],
   "source": [
    "#wap to calculate a billing in shop\n",
    "\n",
    "net_bill =\"\" \n",
    "all_total = 0\n",
    "n =  int(input(\"enter n\"))\n",
    "for i in range(n):\n",
    "    name = input(\"enter customer name\")\n",
    "    contact = int(input(\"enter contact number\"))\n",
    "    price = int(input(\"enter price of product\"))\n",
    "    quantity = int(input(\"enter quantity of product\"))\n",
    "    total = price*quantity\n",
    "    all_total = all_total + total\n",
    "    bill = name + \" \" + str(contact) +\" \"+ str(price)+  \" \"+ str(quantity) + \" \"+ str(total)\n",
    "    net_bill = net_bill + bill + \"\\n\"\n",
    "print(net_bill)\n",
    "print(all_total)"
   ]
  },
  {
   "cell_type": "code",
   "execution_count": 7,
   "metadata": {},
   "outputs": [
    {
     "name": "stdout",
     "output_type": "stream",
     "text": [
      "enter number of student2\n",
      "enter name of studentram\n",
      "enter total subject2\n",
      "enter subjectmath\n"
     ]
    },
    {
     "ename": "ValueError",
     "evalue": "invalid literal for int() with base 10: 'math'",
     "output_type": "error",
     "traceback": [
      "\u001b[1;31m---------------------------------------------------------------------------\u001b[0m",
      "\u001b[1;31mValueError\u001b[0m                                Traceback (most recent call last)",
      "\u001b[1;32m<ipython-input-7-d68f4082a58d>\u001b[0m in \u001b[0;36m<module>\u001b[1;34m\u001b[0m\n\u001b[0;32m      7\u001b[0m     \u001b[1;32mfor\u001b[0m \u001b[0mj\u001b[0m \u001b[1;32min\u001b[0m \u001b[0mrange\u001b[0m\u001b[1;33m(\u001b[0m\u001b[0ms\u001b[0m\u001b[1;33m)\u001b[0m\u001b[1;33m:\u001b[0m\u001b[1;33m\u001b[0m\u001b[1;33m\u001b[0m\u001b[0m\n\u001b[0;32m      8\u001b[0m         \u001b[0ma\u001b[0m\u001b[1;33m=\u001b[0m\u001b[1;36m0\u001b[0m\u001b[1;33m\u001b[0m\u001b[1;33m\u001b[0m\u001b[0m\n\u001b[1;32m----> 9\u001b[1;33m         \u001b[0msubject\u001b[0m\u001b[1;33m=\u001b[0m\u001b[0mint\u001b[0m\u001b[1;33m(\u001b[0m\u001b[0minput\u001b[0m\u001b[1;33m(\u001b[0m\u001b[1;34m\"enter subject\"\u001b[0m\u001b[1;33m)\u001b[0m\u001b[1;33m)\u001b[0m\u001b[1;33m\u001b[0m\u001b[1;33m\u001b[0m\u001b[0m\n\u001b[0m\u001b[0;32m     10\u001b[0m         \u001b[0mmark\u001b[0m\u001b[1;33m=\u001b[0m\u001b[0mint\u001b[0m\u001b[1;33m(\u001b[0m\u001b[0minput\u001b[0m\u001b[1;33m(\u001b[0m\u001b[1;34m\"enter marks\"\u001b[0m\u001b[1;33m)\u001b[0m\u001b[1;33m)\u001b[0m\u001b[1;33m\u001b[0m\u001b[1;33m\u001b[0m\u001b[0m\n\u001b[0;32m     11\u001b[0m         \u001b[0mmarks\u001b[0m\u001b[1;33m=\u001b[0m \u001b[0mmark\u001b[0m \u001b[1;33m+\u001b[0m \u001b[0ma\u001b[0m\u001b[1;33m\u001b[0m\u001b[1;33m\u001b[0m\u001b[0m\n",
      "\u001b[1;31mValueError\u001b[0m: invalid literal for int() with base 10: 'math'"
     ]
    }
   ],
   "source": [
    "\n",
    "#wap to design a marksheet result\n",
    "all_total= 0\n",
    "n=int(input(\"enter number of student\"))\n",
    "for i in range(n):\n",
    "    name=input(\"enter name of student\")\n",
    "    s= int(input(\"enter total subject\"))\n",
    "    for j in range(s):\n",
    "        a=0\n",
    "        subject=int(input(\"enter subject\"))\n",
    "        mark=int(input(\"enter marks\"))\n",
    "        marks= mark + a\n",
    "        percentage = (marks/s)\n",
    "data = name + \"\"+ str(subject)+ \" \"+ str(marks) +\" \" + \"\\n\"\n",
    "print(data)\n",
    "\n",
    "        \n",
    "\n",
    "\n",
    "\n",
    "\n",
    "\n",
    "\n",
    "\n",
    "\n",
    "\n"
   ]
  },
  {
   "cell_type": "code",
   "execution_count": null,
   "metadata": {},
   "outputs": [],
   "source": []
  },
  {
   "cell_type": "code",
   "execution_count": null,
   "metadata": {},
   "outputs": [],
   "source": [
    "def cal():\n",
    "    all_total=0\n",
    "    bill=0\n",
    "    net_bill=0\n",
    "    \n",
    "    name = input(\"Enter name =\")\n",
    "    price = int(input(\"Enter price =\"))\n",
    "    quantity = int(input(\"Enter quantity=\"))\n",
    "\n",
    "    total = price*quantity\n",
    "    all_total = all_total+total\n",
    "    bill = name + \" \" +str(price)+\" \"+ str(quantity)+ \" \" +str(total)\n",
    "    net_bill = str(net_bill)+str(bill)+\"\\n\"\n",
    "    \n",
    "    print(\"My net bill is = \\n\",net_bill)\n",
    "    print(\"My all total = \",all_total)\n",
    "    cal()\n",
    "cal()"
   ]
  },
  {
   "cell_type": "code",
   "execution_count": 1,
   "metadata": {},
   "outputs": [
    {
     "name": "stdout",
     "output_type": "stream",
     "text": [
      "e\n"
     ]
    }
   ],
   "source": [
    "\n",
    "a= \"hello world\"\n",
    "print(a[1])\n"
   ]
  },
  {
   "cell_type": "code",
   "execution_count": 8,
   "metadata": {},
   "outputs": [
    {
     "name": "stdout",
     "output_type": "stream",
     "text": [
      "yes, 'hello' not present\n"
     ]
    }
   ],
   "source": [
    "txt = \"The best things in life are free!\"\n",
    "if \"hello\" not in txt:\n",
    "    print(\"yes, 'hello' not present\")"
   ]
  },
  {
   "cell_type": "code",
   "execution_count": 11,
   "metadata": {},
   "outputs": [
    {
     "name": "stdout",
     "output_type": "stream",
     "text": [
      "hello\n"
     ]
    }
   ],
   "source": [
    "print(a[:5])"
   ]
  },
  {
   "cell_type": "code",
   "execution_count": null,
   "metadata": {},
   "outputs": [],
   "source": []
  }
 ],
 "metadata": {
  "kernelspec": {
   "display_name": "Python 3",
   "language": "python",
   "name": "python3"
  },
  "language_info": {
   "codemirror_mode": {
    "name": "ipython",
    "version": 3
   },
   "file_extension": ".py",
   "mimetype": "text/x-python",
   "name": "python",
   "nbconvert_exporter": "python",
   "pygments_lexer": "ipython3",
   "version": "3.8.5"
  }
 },
 "nbformat": 4,
 "nbformat_minor": 4
}
